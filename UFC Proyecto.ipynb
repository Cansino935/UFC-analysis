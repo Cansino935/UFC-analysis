{
 "cells": [
  {
   "cell_type": "markdown",
   "id": "43a20196",
   "metadata": {},
   "source": [
    "## Ejercicio UFC\n",
    "Los puntos a abarcar son:\n",
    "- Top 3 peleadores con mayor numero de peleas ganadas por año\n",
    "- Top 3 peleadores con mayor numero de peleas perdidas por año\n",
    "- La tendencia de victorias por knockout\n",
    "- La tendencia de victorias por takedown\n",
    "- Proporcion de takedown y knockdown por victoria de ambas con grafico\n",
    "- Edad promedio de todos los peleadores"
   ]
  },
  {
   "cell_type": "markdown",
   "id": "2b3a7c5c",
   "metadata": {},
   "source": [
    "## Importacion de librerias"
   ]
  },
  {
   "cell_type": "code",
   "execution_count": null,
   "id": "0e0949b7",
   "metadata": {},
   "outputs": [],
   "source": [
    "import pandas as pd\n",
    "import numpy as np\n",
    "import matplotlib.pyplot as plt\n",
    "import glob \n",
    "import datetime as dt\n",
    "from datetime import datetime"
   ]
  },
  {
   "cell_type": "markdown",
   "id": "244623a0",
   "metadata": {},
   "source": [
    "## Base de datos"
   ]
  },
  {
   "cell_type": "code",
   "execution_count": null,
   "id": "ddb665d0",
   "metadata": {},
   "outputs": [],
   "source": [
    "path = \"C:\\\\Users\\\\Cansi\\\\Documents\\\\Verano Cientifico II\\\\Ejercicio UFC\\\\UFC data\"\n",
    "for file in glob.glob(path + \"\\*.csv\"):\n",
    "    print(file) # Aqui solo tendremos una representacion para seleccionar el dtbs a estudiar\n",
    "# En este caso solo estoy utilizando el primer archivo csv"
   ]
  },
  {
   "cell_type": "markdown",
   "id": "2913d7f9",
   "metadata": {},
   "source": [
    "## Primer base de datos fl1"
   ]
  },
  {
   "cell_type": "code",
   "execution_count": null,
   "id": "9ee1c281",
   "metadata": {},
   "outputs": [],
   "source": [
    "fl1 = pd.read_csv(\"C:\\\\Users\\\\Cansi\\\\Documents\\\\Verano Cientifico II\\\\Ejercicio UFC\\\\UFC data\\data.csv\")\n",
    "fl1 # Este es nuestro conjunto de datos con el que trabajaremos"
   ]
  },
  {
   "cell_type": "code",
   "execution_count": null,
   "id": "52559fe4",
   "metadata": {},
   "outputs": [],
   "source": [
    "print(fl1.columns.values) # Asies, son muchas columnas por analizar"
   ]
  },
  {
   "cell_type": "code",
   "execution_count": null,
   "id": "6b238af1",
   "metadata": {},
   "outputs": [],
   "source": [
    "fl1.dtypes # El dytypes sera una herramienta para trabajar el mismo tipo de datos (str, int, bool)"
   ]
  },
  {
   "cell_type": "markdown",
   "id": "62dad57a",
   "metadata": {},
   "source": [
    "## Importancia con las fechas\n",
    "Como la fecha esta dada en un formato, a mi me interesa trabajar solo con el año, no el día ni el mes.\n",
    "Hay una funcion \"datetime\" que me ayuda con ello, es lo que haré "
   ]
  },
  {
   "cell_type": "code",
   "execution_count": null,
   "id": "0f270905",
   "metadata": {},
   "outputs": [],
   "source": [
    "fl1[\"date\"]=pd.to_datetime(fl1.date) # Convierto la columna de fecha a un valor tipo \"datetime\""
   ]
  },
  {
   "cell_type": "code",
   "execution_count": null,
   "id": "42371b76",
   "metadata": {},
   "outputs": [],
   "source": [
    "fl1.dtypes # Verificacion que se hizo correctamente\n",
    "# La columna \"date\" ya paso al formato datatime"
   ]
  },
  {
   "cell_type": "code",
   "execution_count": null,
   "id": "126d6fc9",
   "metadata": {},
   "outputs": [],
   "source": [
    "fl1[\"Year\"] = fl1.date.dt.year\n",
    "fl1\n",
    "# Se anexa una columa con el año de cada pelea (Es la ultima)"
   ]
  },
  {
   "cell_type": "code",
   "execution_count": null,
   "id": "e885ca7d",
   "metadata": {},
   "outputs": [],
   "source": [
    "# Conteo de cuantas peleas por año hubo\n",
    "fl1.Year.value_counts().sort_index()"
   ]
  },
  {
   "cell_type": "code",
   "execution_count": null,
   "id": "c047e4c5",
   "metadata": {},
   "outputs": [],
   "source": [
    "# Lista con el conteo de pelear por año\n",
    "fyr=[fl1.Year.value_counts().sort_index()]\n",
    "fyr"
   ]
  },
  {
   "cell_type": "code",
   "execution_count": null,
   "id": "51810adb",
   "metadata": {},
   "outputs": [],
   "source": [
    "# Una representacion grafica de lo anterior es\n",
    "fl1.Year.value_counts().sort_index().plot(color='blue', linewidth = 2, marker='o', markerfacecolor='red', markersize=5)\n",
    "plt.xlabel(\"Año\"),plt.ylabel(\"Cantidad de peleas\"),plt.title(\"Cantidad de peleas por año\")"
   ]
  },
  {
   "cell_type": "code",
   "execution_count": null,
   "id": "0595f76e",
   "metadata": {},
   "outputs": [],
   "source": [
    "# Ver la cantidad de peleas por luchador\n",
    "fl1[(fl1[\"Winner\"]==\"Blue\")]"
   ]
  },
  {
   "cell_type": "markdown",
   "id": "9587506b",
   "metadata": {},
   "source": [
    "## Recordatorio Kevin\n",
    "Ok llevamos esto:\n",
    "- Ya importaste las librerias\n",
    "- El DataFrame ya lo tienes\n",
    "- Encontraste la forma de trabajar solo con los años con datetime (muy bien aqui por cierto)\n",
    "- Estamos buscando como hacer un cotador de victorias algunas ideas son:\n",
    "    - 1.- Tomar la columna \"Winner\" y ver si fue \"Red\" o \"Blue\", ya con eso que se compare con la columna \"Name\". Se ocupara un contador de las veces que ha ganado cada luchador, tambien un contador para el año, que empiece en 1994, sume 1 cada que la condicion con la column a \"Year\" sea mayor hara \"año += 1\", así hasta 2021"
   ]
  },
  {
   "cell_type": "code",
   "execution_count": null,
   "id": "d23ac507",
   "metadata": {},
   "outputs": [],
   "source": [
    "print(\"Elige un año entre 1994 y 2021\")"
   ]
  },
  {
   "cell_type": "code",
   "execution_count": null,
   "id": "8d143407",
   "metadata": {},
   "outputs": [],
   "source": [
    "anno = input()"
   ]
  },
  {
   "cell_type": "code",
   "execution_count": null,
   "id": "d386fe03",
   "metadata": {},
   "outputs": [],
   "source": [
    "print(\"El año a analizar es: \", anno)"
   ]
  },
  {
   "cell_type": "code",
   "execution_count": null,
   "id": "d985a7d1",
   "metadata": {},
   "outputs": [],
   "source": [
    "ayo = int(anno)"
   ]
  },
  {
   "cell_type": "code",
   "execution_count": null,
   "id": "5a18c121",
   "metadata": {},
   "outputs": [],
   "source": [
    "fl_y = fl1.at[(fl1[\"Year\"].idxmax(),\"B_wins\")] #Groupby para organizar esto y hacer un contador\n",
    "print(fl_y)"
   ]
  },
  {
   "cell_type": "markdown",
   "id": "3c2e7459",
   "metadata": {},
   "source": [
    "De aqui para abajo ya son opciones a tomar, lo recomendable es seguir con la base y sugerencia del \"groupby\".\n",
    "## Buscar alternativas si se decide continuar con el metodo de abajo"
   ]
  },
  {
   "cell_type": "code",
   "execution_count": null,
   "id": "0c41d070",
   "metadata": {},
   "outputs": [],
   "source": [
    "año = 1994\n",
    "fy=[].at\n",
    "#fl1[(fl1[\"Year\"]==año)]\n",
    "#fl1.loc[fl1.loc[:,\"Year\"]==año]\n",
    "if fl1[\"Year\"]==año:\n",
    "    print(\"hola\")"
   ]
  },
  {
   "cell_type": "code",
   "execution_count": null,
   "id": "3a9bd26a",
   "metadata": {},
   "outputs": [],
   "source": [
    "fl1p = fl1[[\"R_fighter\",\"B_fighter\",\"date\",\"Winner\",\"B_win_by_KO/TKO\",\"R_win_by_KO/TKO\",\"Year\",\"B_current_win_streak\"]]\n",
    "fl1p # Tal vez me conviene trabajar más con estas 4 columnas por ahora"
   ]
  },
  {
   "cell_type": "code",
   "execution_count": null,
   "id": "22319314",
   "metadata": {},
   "outputs": [],
   "source": [
    "fl1_95 = fl1p[(fl1p[\"Year\"]==1995)]\n",
    "fl1_95"
   ]
  },
  {
   "cell_type": "code",
   "execution_count": null,
   "id": "ecdf0bea",
   "metadata": {},
   "outputs": [],
   "source": [
    "#fl1p = fl1p.groupby(pd.PeriodIndex(fl1p.columns,freq=\"Y\"), axis = 1)"
   ]
  },
  {
   "cell_type": "code",
   "execution_count": null,
   "id": "7e03efd7",
   "metadata": {},
   "outputs": [],
   "source": [
    "#fl2 = pd.read_csv(\"C:\\\\Users\\\\Cansi\\\\Documents\\\\Verano Cientifico II\\\\Ejercicio UFC\\\\UFC data\\\\preprocessed_data.csv\")\n",
    "#fl2"
   ]
  },
  {
   "cell_type": "code",
   "execution_count": null,
   "id": "633bfc75",
   "metadata": {},
   "outputs": [],
   "source": [
    "#fl3 = pd.read_csv(\"C:\\\\Users\\\\Cansi\\\\Documents\\\\Verano Cientifico II\\\\Ejercicio UFC\\\\UFC data\\\\raw_fighter_details.csv\")\n",
    "#fl3"
   ]
  }
 ],
 "metadata": {
  "kernelspec": {
   "display_name": "Python 3 (ipykernel)",
   "language": "python",
   "name": "python3"
  },
  "language_info": {
   "codemirror_mode": {
    "name": "ipython",
    "version": 3
   },
   "file_extension": ".py",
   "mimetype": "text/x-python",
   "name": "python",
   "nbconvert_exporter": "python",
   "pygments_lexer": "ipython3",
   "version": "3.9.12"
  }
 },
 "nbformat": 4,
 "nbformat_minor": 5
}
